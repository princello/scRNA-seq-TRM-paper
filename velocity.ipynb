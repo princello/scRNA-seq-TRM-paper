{
 "cells": [
  {
   "cell_type": "code",
   "execution_count": null,
   "id": "f2f5bc4e-884d-41a8-85e6-d70f5e2fa9e1",
   "metadata": {},
   "outputs": [],
   "source": [
    "import scanpy as sc\n",
    "import anndata\n",
    "from scipy import io\n",
    "from scipy.sparse import coo_matrix, csr_matrix\n",
    "import numpy as np\n",
    "import os\n",
    "import pandas as pd\n",
    "\n",
    "import scvelo as scv\n",
    "import cellrank as cr\n",
    "import anndata as ad"
   ]
  },
  {
   "cell_type": "code",
   "execution_count": null,
   "id": "10e0e82d-9a3a-4bc0-951c-576a8400012f",
   "metadata": {},
   "outputs": [],
   "source": [
    "scv.settings.verbosity = 3\n",
    "scv.settings.set_figure_params('scvelo', facecolor='white', dpi=300, frameon=False,dpi_save=300)\n",
    "cr.settings.verbosity = 2\n"
   ]
  },
  {
   "cell_type": "code",
   "execution_count": null,
   "id": "1499e008-d66c-4092-9df3-170856661bbc",
   "metadata": {},
   "outputs": [],
   "source": [
    "colors = ['#E91E63','#3F51B5','#00BCD4','#8BC34A','#FFC107','#795548',\n",
    "            '#9C27B0','#2196F3','#009688','#CDDC39','#FF9800','#9E9E9E',\n",
    "            '#673AB7','#03A9F4','#4CAF50','#FFEB3B','#FF5722','#607D8B',\n",
    "            '#F44336','#000000',\n",
    "            '#F48FB1','#9FA8DA','#80DEEA','#C5E1A5','#FFE082','#BCAAA4',\n",
    "            '#CE93D8','#90CAF9','#80CBC4','#E6EE9C','#FFCC80','#EEEEEE'\n",
    "         ]"
   ]
  },
  {
   "cell_type": "code",
   "execution_count": null,
   "id": "f21cf344-0c19-4e95-be37-2ec8159b6c14",
   "metadata": {},
   "outputs": [],
   "source": [
    "X = io.mmread(\"counts.mtx\")\n",
    "madata = anndata.AnnData(\n",
    "    X=X.transpose().tocsr()\n",
    ")\n",
    "cell_meta = pd.read_csv(\"metadata.csv\")\n",
    "\n",
    "with open(\"gene_names.csv\", 'r') as f:\n",
    "    gene_names = f.read().splitlines()\n",
    "    \n",
    "madata.obs = cell_meta\n",
    "madata.obs.index = madata.obs['barcode']\n",
    "madata.var.index = gene_names\n",
    "\n",
    "pca = pd.read_csv(\"pca.csv\")\n",
    "pca.index = madata.obs.index\n",
    "\n",
    "madata.obsm['X_pca'] = pca.to_numpy()\n",
    "madata.obsm['X_umap'] = np.vstack((madata.obs['UMAP_1'].to_numpy(), madata.obs['UMAP_2'].to_numpy())).T"
   ]
  },
  {
   "cell_type": "code",
   "execution_count": null,
   "id": "a7676b39-0193-4328-9fbb-5dc3d2f0395e",
   "metadata": {},
   "outputs": [],
   "source": [
    "sc.pl.umap(madata, color=['groups'], frameon=False, save='_'+path, palette = colors)"
   ]
  },
  {
   "cell_type": "code",
   "execution_count": null,
   "id": "3baed46e-37ee-4403-ac24-d50e64446f10",
   "metadata": {
    "tags": []
   },
   "outputs": [],
   "source": [
    "ldata1 = scv.read('loom/MJ001_GEX_20OMG.loom', cache=True) #Pt15_POD1194\n",
    "ldata2 = scv.read('loom/MJ002_GEX_5A1SG.loom', cache=True) #Pt13_POD1032_IEL\n",
    "ldata3 = scv.read('loom/MJ003_GEX_MQM2V.loom', cache=True) #Pt13_POD1032_LPL\n",
    "ldata4 = scv.read('loom/MJ005_GEX_0LY3X.loom', cache=True) #Pt14_POD1764\n",
    "ldata5 = scv.read('loom/MJ006_GEX_T9QU0.loom', cache=True) #Pt21_POD626\n",
    "ldata6 = scv.read('loom/MJ008_GEX_KZQVN.loom', cache=True) #Pt04_POD1606_IEL\n",
    "ldata7 = scv.read('loom/MJ009_GEX_RFWYH.loom', cache=True) #Pt04_POD1606_LPL\n",
    "ldata8 = scv.read('loom/MJ016_GEX_RC2IY.loom', cache=True) #Pt16_POD1004_IEL\n",
    "ldata9 = scv.read('loom/MJ017_GEX_92RWQ.loom', cache=True) #Pt16_POD1004_LPL\n",
    "ldata10 = scv.read('loom/MJ018_GEX_9EHAR.loom', cache=True) #Pt21_POD1145_IEL\n",
    "ldata11 = scv.read('loom/MJ019_GEX_MZQMH.loom', cache=True) #Pt21_POD1145_LPL\n",
    "ldata12 = scv.read('loom/MJ007_GEX_LSF3W.loom', cache=True)"
   ]
  },
  {
   "cell_type": "code",
   "execution_count": null,
   "id": "eb56fb02-9e31-4fd5-8e8d-e3f139080fa6",
   "metadata": {},
   "outputs": [],
   "source": [
    "rej <- subset(integrated8.rpca, idents=c('Pt04_POD1606_IEL','Pt04_POD1606_LPL','Pt14_POD1764','Pt21_POD1145_IEL','Pt21_POD1145_LPL'))\n",
    "qui <- subset(integrated8.rpca, idents=c('Pt13_POD1032_IEL','Pt13_POD1032_LPL','Pt15_POD1194','Pt16_POD1004_IEL','Pt16_POD1004_LPL','Pt21_POD626'))"
   ]
  },
  {
   "cell_type": "code",
   "execution_count": null,
   "id": "1c961851-39f0-44c5-8d6a-94b07021d965",
   "metadata": {
    "tags": []
   },
   "outputs": [],
   "source": [
    "'''\n",
    "path = 'mj007'\n",
    "ldata = scv.read('loom/MJ007_GEX_LSF3W.loom', cache=True)\n",
    "ind = '12'\n",
    "\n",
    "path = 'mj019'\n",
    "ldata = scv.read('loom/MJ019_GEX_MZQMH.loom', cache=True)\n",
    "ind = '11'\n",
    "\n",
    "path = 'mj018'\n",
    "ldata = scv.read('loom/MJ018_GEX_9EHAR.loom', cache=True)\n",
    "ind = '10'\n",
    "\n",
    "path = 'mj017'\n",
    "ldata = scv.read('loom/MJ017_GEX_92RWQ.loom', cache=True)\n",
    "ind = '9'\n",
    "\n",
    "path = 'mj016'\n",
    "ldata = scv.read('loom/MJ016_GEX_RC2IY.loom', cache=True)\n",
    "ind = '8'\n",
    "\n",
    "path = 'mj009'\n",
    "ldata = scv.read('loom/MJ009_GEX_RFWYH.loom', cache=True)\n",
    "ind = '7'\n",
    "\n",
    "path = 'mj008'\n",
    "ldata = scv.read('loom/MJ008_GEX_KZQVN.loom', cache=True)\n",
    "ind = '6'\n",
    "\n",
    "path = 'mj006'\n",
    "ldata = scv.read('loom/MJ006_GEX_T9QU0.loom', cache=True)\n",
    "ind = '5'\n",
    "\n",
    "path = 'mj005'\n",
    "ldata = scv.read('loom/MJ005_GEX_0LY3X.loom', cache=True)\n",
    "ind = '4'\n",
    "\n",
    "path = 'mj003'\n",
    "ldata = scv.read('loom/MJ003_GEX_MQM2V.loom', cache=True)\n",
    "ind = '3'\n",
    "\n",
    "path = 'mj002'\n",
    "ldata = scv.read('loom/MJ002_GEX_5A1SG.loom', cache=True)\n",
    "ind = '2'\n",
    "\n",
    "path = 'mj001'\n",
    "ldata = scv.read('loom/MJ001_GEX_20OMG.loom', cache=True)\n",
    "ind = '1'\n",
    "\n",
    "barcodes = [bc.split(':')[1] for bc in ldata.obs.index.tolist()]\n",
    "barcodes = [bc[0:len(bc)-1] + '-1_'+ind for bc in barcodes]\n",
    "ldata.obs.index = barcodes\n",
    "ldata.var_names_make_unique()\n",
    "adata = scv.utils.merge(madata, ldata)\n",
    "'''\n"
   ]
  },
  {
   "cell_type": "code",
   "execution_count": null,
   "id": "d284a9e4-232c-4257-99fb-d3e0c2e0b7e9",
   "metadata": {},
   "outputs": [],
   "source": [
    "barcodes = [bc.split(':')[1] for bc in ldata6.obs.index.tolist()]\n",
    "barcodes = [bc[0:len(bc)-1] + '-1_6' for bc in barcodes]\n",
    "ldata6.obs.index = barcodes\n",
    "\n",
    "barcodes = [bc.split(':')[1] for bc in ldata7.obs.index.tolist()]\n",
    "barcodes = [bc[0:len(bc)-1] + '-1_7' for bc in barcodes]\n",
    "ldata7.obs.index = barcodes\n",
    "\n",
    "barcodes = [bc.split(':')[1] for bc in ldata4.obs.index.tolist()]\n",
    "barcodes = [bc[0:len(bc)-1] + '-1_4' for bc in barcodes]\n",
    "ldata4.obs.index = barcodes\n",
    "\n",
    "barcodes = [bc.split(':')[1] for bc in ldata10.obs.index.tolist()]\n",
    "barcodes = [bc[0:len(bc)-1] + '-1_10' for bc in barcodes]\n",
    "ldata10.obs.index = barcodes\n",
    "\n",
    "barcodes = [bc.split(':')[1] for bc in ldata11.obs.index.tolist()]\n",
    "barcodes = [bc[0:len(bc)-1] + '-1_11' for bc in barcodes]\n",
    "ldata11.obs.index = barcodes\n",
    "\n",
    "\n",
    "# make variable names unique\n",
    "ldata6.var_names_make_unique()\n",
    "ldata7.var_names_make_unique()\n",
    "ldata4.var_names_make_unique()\n",
    "ldata10.var_names_make_unique()\n",
    "ldata11.var_names_make_unique()\n",
    "# concatenate the three loom"
   ]
  },
  {
   "cell_type": "code",
   "execution_count": null,
   "id": "8e34f88a-b47c-48c0-8738-b4405e308346",
   "metadata": {},
   "outputs": [],
   "source": [
    "barcodes = [bc.split(':')[1] for bc in ldata1.obs.index.tolist()]\n",
    "barcodes = [bc[0:len(bc)-1] + '-1_1' for bc in barcodes]\n",
    "ldata1.obs.index = barcodes\n",
    "\n",
    "barcodes = [bc.split(':')[1] for bc in ldata2.obs.index.tolist()]\n",
    "barcodes = [bc[0:len(bc)-1] + '-1_2' for bc in barcodes]\n",
    "ldata2.obs.index = barcodes\n",
    "\n",
    "barcodes = [bc.split(':')[1] for bc in ldata3.obs.index.tolist()]\n",
    "barcodes = [bc[0:len(bc)-1] + '-1_3' for bc in barcodes]\n",
    "ldata3.obs.index = barcodes\n",
    "\n",
    "barcodes = [bc.split(':')[1] for bc in ldata5.obs.index.tolist()]\n",
    "barcodes = [bc[0:len(bc)-1] + '-1_5' for bc in barcodes]\n",
    "ldata5.obs.index = barcodes\n",
    "\n",
    "barcodes = [bc.split(':')[1] for bc in ldata8.obs.index.tolist()]\n",
    "barcodes = [bc[0:len(bc)-1] + '-1_8' for bc in barcodes]\n",
    "ldata8.obs.index = barcodes\n",
    "\n",
    "barcodes = [bc.split(':')[1] for bc in ldata9.obs.index.tolist()]\n",
    "barcodes = [bc[0:len(bc)-1] + '-1_9' for bc in barcodes]\n",
    "ldata9.obs.index = barcodes\n",
    "\n",
    "\n",
    "# make variable names unique\n",
    "ldata1.var_names_make_unique()\n",
    "ldata2.var_names_make_unique()\n",
    "ldata3.var_names_make_unique()\n",
    "ldata5.var_names_make_unique()\n",
    "ldata8.var_names_make_unique()\n",
    "ldata9.var_names_make_unique()\n",
    "# concatenate the three loom"
   ]
  },
  {
   "cell_type": "code",
   "execution_count": null,
   "id": "124d9d4b-e443-4e0f-ac73-a9227880ac20",
   "metadata": {},
   "outputs": [],
   "source": [
    "ldata = ldata4.concatenate([ldata6, ldata7, ldata10, ldata11], index_unique=None)\n",
    "path = 'rej'"
   ]
  },
  {
   "cell_type": "code",
   "execution_count": null,
   "id": "ad8dfd81-2bdd-4e67-8cbd-3fb32ef1a0fc",
   "metadata": {},
   "outputs": [],
   "source": [
    "ldata = ldata1.concatenate([ldata2, ldata3, ldata5, ldata8, ldata9], index_unique=None)\n",
    "path = 'qui'"
   ]
  },
  {
   "cell_type": "code",
   "execution_count": null,
   "id": "b51e7853-5c19-45d1-83d9-895469f2ef69",
   "metadata": {},
   "outputs": [],
   "source": [
    "ldata = ldata1.concatenate([ldata2, ldata3, ldata4, ldata5, ldata6, ldata7, ldata8, ldata9, ldata10, ldata11], index_unique = None)\n",
    "path = 'all'"
   ]
  },
  {
   "cell_type": "code",
   "execution_count": null,
   "id": "ee755715-5584-49ce-a4fd-362e8c276a8e",
   "metadata": {},
   "outputs": [],
   "source": [
    "adata = scv.utils.merge(madata, ldata)"
   ]
  },
  {
   "cell_type": "code",
   "execution_count": null,
   "id": "8e54b065-9781-446a-ad77-ebb76a130fd9",
   "metadata": {},
   "outputs": [],
   "source": [
    "adata.obs['groups'] = adata.obs['groups'].astype('category')\n",
    "scv.pl.proportions(adata, groupby='groups', save=path+'_proportions.pdf')"
   ]
  },
  {
   "cell_type": "code",
   "execution_count": null,
   "id": "0533b8eb-2db6-4c91-8225-18b303c8b9cf",
   "metadata": {},
   "outputs": [],
   "source": [
    "scv.pp.filter_and_normalize(adata)\n",
    "scv.pp.moments(adata)\n",
    "scv.tl.velocity(adata, mode='stochastic')\n",
    "scv.tl.velocity_graph(adata)\n",
    "scv.pl.velocity_embedding(adata, basis='umap', frameon=False, save=path+'_embedding.pdf')"
   ]
  },
  {
   "cell_type": "code",
   "execution_count": null,
   "id": "334e4ace-ce14-420b-b203-2967c100d6b2",
   "metadata": {},
   "outputs": [],
   "source": [
    "scv.pl.velocity_embedding_grid(adata, basis='umap', color='groups', save=path+'_embedding_grid.pdf', title='', scale=0.3)"
   ]
  },
  {
   "cell_type": "code",
   "execution_count": null,
   "id": "0b28fa75-5e77-433c-8e48-a9dade2e62fe",
   "metadata": {},
   "outputs": [],
   "source": [
    "scv.pl.velocity_embedding_stream(adata, basis='umap', color='groups', save=path+'_embedding_stream.png', title='')"
   ]
  },
  {
   "cell_type": "code",
   "execution_count": null,
   "id": "5b734fd3-47cf-415d-9a1b-3cf423c61608",
   "metadata": {},
   "outputs": [],
   "source": [
    "scv.pl.velocity(adata, var_names=['NKG7'], color='groups',save=path+'_velocity_NKG7.pdf')"
   ]
  },
  {
   "cell_type": "code",
   "execution_count": null,
   "id": "2041f637-19d5-4963-8be4-238ad3e299c4",
   "metadata": {},
   "outputs": [],
   "source": [
    "scv.pl.velocity(adata, var_names=['CCL5'], color='groups',save=path+'_velocity_CCL5.pdf')"
   ]
  },
  {
   "cell_type": "code",
   "execution_count": null,
   "id": "4e03ad0e-a78c-4d64-9587-ecdca127b647",
   "metadata": {},
   "outputs": [],
   "source": [
    "scv.tl.rank_velocity_genes(adata, groupby='groups', min_corr=.3)\n",
    "df = scv.DataFrame(adata.uns['rank_velocity_genes']['names'])\n",
    "df.head()\n",
    "df.to_csv('./figures/scvelo_'+path+'_ank_velocity_genes.csv')"
   ]
  },
  {
   "cell_type": "code",
   "execution_count": null,
   "id": "0b0e873d-5e0a-4050-9a16-a3d4051b5ab0",
   "metadata": {},
   "outputs": [],
   "source": [
    "scv.tl.velocity_confidence(adata)\n",
    "keys = 'velocity_length', 'velocity_confidence'\n",
    "scv.pl.scatter(adata, c=keys, cmap='coolwarm', perc=[5, 95],save=path+'_velocity_confidence.pdf')"
   ]
  },
  {
   "cell_type": "code",
   "execution_count": null,
   "id": "585ded3a-09ce-45f6-8b01-3b5bd045e988",
   "metadata": {},
   "outputs": [],
   "source": [
    "scv.pl.velocity_graph(adata, threshold=.1, color='groups',save=path+'_velocity_graph.pdf')"
   ]
  },
  {
   "cell_type": "code",
   "execution_count": null,
   "id": "36eaa327-a677-4242-9d9f-2b49c7231de5",
   "metadata": {},
   "outputs": [],
   "source": [
    "x, y = scv.utils.get_cell_transitions(adata, basis='umap', starting_cell=70)\n",
    "ax = scv.pl.velocity_graph(adata, c='lightgrey', edge_width=.05, show=False)\n",
    "ax = scv.pl.scatter(adata, x=x, y=y, s=120, c='ascending', cmap='gnuplot', ax=ax, save = path+'_cell_transitions.pdf')"
   ]
  },
  {
   "cell_type": "code",
   "execution_count": null,
   "id": "30ba09ba-95c6-4055-a395-c12e3d5f1d2a",
   "metadata": {},
   "outputs": [],
   "source": [
    "scv.tl.velocity_pseudotime(adata)\n",
    "scv.pl.scatter(adata, color='velocity_pseudotime', cmap='gnuplot', save = path+'_velocity_pseudotime.pdf')"
   ]
  },
  {
   "cell_type": "code",
   "execution_count": null,
   "id": "2471ee40-949a-42b4-9899-ba485ce7a8f9",
   "metadata": {},
   "outputs": [],
   "source": [
    "adata.uns['neighbors']['distances'] = adata.obsp['distances']\n",
    "adata.uns['neighbors']['connectivities'] = adata.obsp['connectivities']\n",
    "scv.tl.paga(adata, groups='groups')\n",
    "df = scv.get_df(adata, 'paga/transitions_confidence', precision=2).T\n",
    "df.to_csv('./figures/scvelo_'+path+'_transitions_confidence.csv')\n",
    "scv.pl.paga(adata, basis='umap', size=50, alpha=.1,\n",
    "            min_edge_width=2, node_size_scale=1.5, save = path+'_paga.pdf')"
   ]
  },
  {
   "cell_type": "code",
   "execution_count": null,
   "id": "6f915321-3385-4250-a2fa-ad3e88c4a7d6",
   "metadata": {},
   "outputs": [],
   "source": [
    "cur_celltypes = ['c03','c04','c07'] #'c01','c02',\n",
    "adata_subset = adata[adata.obs['groups'].isin(cur_celltypes)]\n",
    "sn = '_subset_c347' #'_subset_c12347'\n",
    "\n",
    "sc.pl.umap(adata_subset, color='groups', frameon=False,save = '_'+path+sn)\n",
    "\n",
    "sc.pp.neighbors(adata_subset, n_neighbors=15, use_rep='X_pca')\n",
    "scv.pp.filter_and_normalize(adata_subset)\n",
    "scv.pp.moments(adata_subset)\n",
    "scv.tl.recover_dynamics(adata_subset)\n",
    "scv.tl.velocity(adata_subset, mode='dynamical')\n",
    "scv.tl.velocity_graph(adata_subset)\n",
    "scv.pl.velocity_embedding_stream(adata_subset, basis='umap', color='groups', save=path+'_embedding_stream'+sn+'.png', title='')\n",
    "adata_subset.uns['neighbors']['distances'] = adata_subset.obsp['distances']\n",
    "adata_subset.uns['neighbors']['connectivities'] = adata_subset.obsp['connectivities']\n",
    "scv.tl.paga(adata_subset, groups='groups')\n",
    "df = scv.get_df(adata_subset, 'paga/transitions_confidence', precision=2).T\n",
    "df.to_csv('./figures/scvelo_'+path+'_transitions_confidence'+sn+'.csv')\n",
    "\n",
    "scv.pl.paga(adata_subset, basis='umap', size=50, alpha=.1,\n",
    "            min_edge_width=2, node_size_scale=1.5, save=path+'_paga'+sn)\n",
    "df = adata_subset.var\n",
    "df = df[(df['fit_likelihood'] > .1) & df['velocity_genes'] == True]\n",
    "df.to_csv('./figures/scvelo_'+path+'_fit_likelihood'+sn+'.csv')\n",
    "\n",
    "kwargs = dict(xscale='log', fontsize=16)\n",
    "with scv.GridSpec(ncols=3) as pl:\n",
    "    pl.hist(df['fit_alpha'], xlabel='transcription rate', **kwargs)\n",
    "    pl.hist(df['fit_beta'] * df['fit_scaling'], xlabel='splicing rate', xticks=[.1, .4, 1])\n",
    "    pl.hist(df['fit_gamma'], xlabel='degradation rate', xticks=[.1, .4, 1])\n",
    "\n",
    "scv.get_df(adata_subset, 'fit*', dropna=True).head()\n",
    "scv.tl.latent_time(adata_subset)\n",
    "scv.pl.scatter(adata_subset, color='latent_time', color_map='gnuplot', size=80, save=path+'_laten_time'+sn)\n",
    "top_genes = adata_subset.var['fit_likelihood'].sort_values(ascending=False).index[:300]\n",
    "scv.pl.heatmap(adata_subset, var_names=top_genes, sortby='latent_time', col_color='groups', n_convolve=100, save=path+'_top_genes_heatmap'+sn)\n",
    "scv.pl.scatter(adata_subset, color='groups', basis=top_genes[:15], ncols=5, frameon=False, save=path+'_svu'+sn)\n",
    "scv.pl.scatter(adata_subset, x='latent_time', y=top_genes[:15], ncols=5, color='groups', frameon=False, save=path+'_tvs'+sn)"
   ]
  },
  {
   "cell_type": "code",
   "execution_count": null,
   "id": "abea9d2b-5c37-48c6-9f1a-2ac459c4d0fe",
   "metadata": {},
   "outputs": [],
   "source": [
    "cur_celltypes = ['c01','c02', 'c03','c04','c07'] #'c01','c02',\n",
    "adata_subset = adata[adata.obs['groups'].isin(cur_celltypes)]\n",
    "sn = '_subset_c12347' #'_subset_c12347'\n",
    "\n",
    "sc.pl.umap(adata_subset, color='groups', frameon=False,save = '_'+path+sn)\n",
    "\n",
    "sc.pp.neighbors(adata_subset, n_neighbors=15, use_rep='X_pca')\n",
    "scv.pp.filter_and_normalize(adata_subset)\n",
    "scv.pp.moments(adata_subset)\n",
    "scv.tl.recover_dynamics(adata_subset)\n",
    "scv.tl.velocity(adata_subset, mode='dynamical')\n",
    "scv.tl.velocity_graph(adata_subset)\n",
    "scv.pl.velocity_embedding_stream(adata_subset, basis='umap', color='groups', save=path+'_embedding_stream'+sn+'.png', title='')\n",
    "adata_subset.uns['neighbors']['distances'] = adata_subset.obsp['distances']\n",
    "adata_subset.uns['neighbors']['connectivities'] = adata_subset.obsp['connectivities']\n",
    "scv.tl.paga(adata_subset, groups='groups')\n",
    "df = scv.get_df(adata_subset, 'paga/transitions_confidence', precision=2).T\n",
    "df.to_csv('./figures/scvelo_'+path+'_transitions_confidence'+sn+'.csv')\n",
    "\n",
    "scv.pl.paga(adata_subset, basis='umap', size=50, alpha=.1,\n",
    "            min_edge_width=2, node_size_scale=1.5, save=path+'_paga'+sn)\n",
    "df = adata_subset.var\n",
    "df = df[(df['fit_likelihood'] > .1) & df['velocity_genes'] == True]\n",
    "df.to_csv('./figures/scvelo_'+path+'_fit_likelihood'+sn+'.csv')\n",
    "kwargs = dict(xscale='log', fontsize=16)\n",
    "with scv.GridSpec(ncols=3) as pl:\n",
    "    pl.hist(df['fit_alpha'], xlabel='transcription rate', **kwargs)\n",
    "    pl.hist(df['fit_beta'] * df['fit_scaling'], xlabel='splicing rate', xticks=[.1, .4, 1])\n",
    "    pl.hist(df['fit_gamma'], xlabel='degradation rate', xticks=[.1, .4, 1])\n",
    "\n",
    "scv.get_df(adata_subset, 'fit*', dropna=True).head()\n",
    "scv.tl.latent_time(adata_subset)\n",
    "scv.pl.scatter(adata_subset, color='latent_time', color_map='gnuplot', size=80, save=path+'_laten_time'+sn)\n",
    "top_genes = adata_subset.var['fit_likelihood'].sort_values(ascending=False).index[:300]\n",
    "scv.pl.heatmap(adata_subset, var_names=top_genes, sortby='latent_time', col_color='groups', n_convolve=100, save=path+'_top_genes_heatmap'+sn)\n",
    "scv.pl.scatter(adata_subset, color='groups', basis=top_genes[:15], ncols=5, frameon=False, save=path+'_svu'+sn)\n",
    "scv.pl.scatter(adata_subset, x='latent_time', y=top_genes[:15], ncols=5, color='groups', frameon=False, save=path+'_tvs'+sn)"
   ]
  }
 ],
 "metadata": {
  "kernelspec": {
   "display_name": "Python 3 (ipykernel)",
   "language": "python",
   "name": "python3"
  },
  "language_info": {
   "codemirror_mode": {
    "name": "ipython",
    "version": 3
   },
   "file_extension": ".py",
   "mimetype": "text/x-python",
   "name": "python",
   "nbconvert_exporter": "python",
   "pygments_lexer": "ipython3",
   "version": "3.7.3"
  }
 },
 "nbformat": 4,
 "nbformat_minor": 5
}
